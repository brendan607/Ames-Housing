{
 "cells": [
  {
   "cell_type": "markdown",
   "metadata": {},
   "source": [
    "### Imports"
   ]
  },
  {
   "cell_type": "code",
   "execution_count": 137,
   "metadata": {},
   "outputs": [],
   "source": [
    "import numpy as np\n",
    "import seaborn as sns\n",
    "import matplotlib.pyplot as plt\n",
    "import pandas as pd\n",
    "import pickle\n",
    "from sklearn import metrics\n",
    "from sklearn.linear_model import LinearRegression\n",
    "from sklearn.model_selection import train_test_split, cross_val_score\n",
    "\n",
    "%matplotlib inline"
   ]
  },
  {
   "cell_type": "code",
   "execution_count": 138,
   "metadata": {},
   "outputs": [],
   "source": [
    "train_df = pickle.load(open('./pickles/Clean_DataFrame_v3.pkl', 'rb'))\n",
    "kaggle_df = pd.read_csv('./datasets/test.csv')\n",
    "kaggle_df = kaggle_df.set_index('Id')\n"
   ]
  },
  {
   "cell_type": "markdown",
   "metadata": {},
   "source": [
    "### Cleaning Test Data the same way Training Data was Cleaned"
   ]
  },
  {
   "cell_type": "code",
   "execution_count": 139,
   "metadata": {},
   "outputs": [],
   "source": [
    "kaggle_df.columns = [column_name.lower().replace(' ','_') for column_name in kaggle_df.columns]"
   ]
  },
  {
   "cell_type": "code",
   "execution_count": 140,
   "metadata": {},
   "outputs": [],
   "source": [
    "def impute_avg_of_neighborhood(df):\n",
    "    \n",
    "    #for later use in the function of math.isnan(x)\n",
    "    #Return True if x is a NaN (not a number), and False otherwise.\n",
    "    import math\n",
    "    \n",
    "    #returns a list of all the columns with any null values\n",
    "    null_columns = df.columns[df.isna().any()].tolist()\n",
    "    \n",
    "    for i in null_columns:\n",
    "        if df[i].dtype == 'object':\n",
    "            df[i].replace(np.nan, 'none', inplace = True)\n",
    "    \n",
    "    for i in null_columns:\n",
    "        if df[i].dtype == 'float64':\n",
    "            \n",
    "            #getting indexes of all null values in that column\n",
    "            null_indexes = df[df[i].isnull()].index\n",
    "            \n",
    "            #creating a dictionary to store mean values of each neighborhood per the column variable\n",
    "            key = list(df[['neighborhood', i]].groupby('neighborhood').mean().index)\n",
    "            value = list(df[['neighborhood', i]].groupby('neighborhood').mean()[i].values)\n",
    "            mean_dict = dict(zip(key, value))\n",
    "            \n",
    "            #of the null columns, if a relating categorical column says \"none\", then impute with 0.0's \n",
    "            for x in null_indexes:\n",
    "                if 'mas_vnr' in i:\n",
    "                    if df.at[ x,'mas_vnr_type'] == 'none':\n",
    "                        df.at[x, i] = 0.0\n",
    "                elif 'bsmt' in i:  \n",
    "                    if df.at[ x,'bsmt_qual'] == 'none':\n",
    "                        df.at[x, i] = 0.0\n",
    "                elif 'pool' in i:  \n",
    "                    if df.at[ x,'pool_qc'] == 'none':\n",
    "                        df.at[x, i] = 0.0                 \n",
    "                elif 'garage' in i:  \n",
    "                    if df.at[ x,'garage_type'] == 'none':\n",
    "                        df.at[x, i] = 0.0\n",
    "                        \n",
    "                    else:\n",
    "                        mean_dict_key = df.at[x,'neighborhood']\n",
    "                    \n",
    "                        if math.isnan(mean_dict[mean_dict_key]):\n",
    "                    \n",
    "                            df.at[x, i] = 0\n",
    "                        \n",
    "                        else:\n",
    "                            df.at[x, i] = mean_dict[mean_dict_key]\n",
    "               \n",
    "            #otherwise impute with the avg value of the house's neighborhood\n",
    "                else:\n",
    "                    mean_dict_key = df.at[x,'neighborhood']\n",
    "                    \n",
    "                    if math.isnan(mean_dict[mean_dict_key]):\n",
    "                    \n",
    "                        df.at[x, i] = 0\n",
    "                        \n",
    "                    else:\n",
    "                        df.at[x, i] = mean_dict[mean_dict_key]\n",
    "                    \n",
    "    return df"
   ]
  },
  {
   "cell_type": "code",
   "execution_count": 141,
   "metadata": {},
   "outputs": [
    {
     "data": {
      "text/plain": [
       "(878, 79)"
      ]
     },
     "execution_count": 141,
     "metadata": {},
     "output_type": "execute_result"
    }
   ],
   "source": [
    "impute_avg_of_neighborhood(kaggle_df).shape"
   ]
  },
  {
   "cell_type": "code",
   "execution_count": 142,
   "metadata": {},
   "outputs": [
    {
     "data": {
      "text/plain": [
       "pid              0\n",
       "fireplaces       0\n",
       "functional       0\n",
       "totrms_abvgrd    0\n",
       "kitchen_qual     0\n",
       "                ..\n",
       "exterior_1st     0\n",
       "roof_matl        0\n",
       "roof_style       0\n",
       "exter_cond       0\n",
       "sale_type        0\n",
       "Length: 79, dtype: int64"
      ]
     },
     "execution_count": 142,
     "metadata": {},
     "output_type": "execute_result"
    }
   ],
   "source": [
    "kaggle_df.isnull().sum().sort_values(ascending = True)"
   ]
  },
  {
   "cell_type": "markdown",
   "metadata": {},
   "source": [
    "Creating Ordinal Variables"
   ]
  },
  {
   "cell_type": "code",
   "execution_count": 143,
   "metadata": {},
   "outputs": [],
   "source": [
    "bsmt_qual_dict = dict(zip(['none', 'Po', 'Fa', 'TA','Gd', 'Ex'], range(6)))\n",
    "kaggle_df['bsmt_qual'] = kaggle_df['bsmt_qual'].apply(lambda x:bsmt_qual_dict[x])\n",
    "\n",
    "kitchen_qual_dict = dict(zip(['Po', 'Fa', 'TA','Gd', 'Ex'], range(1, 6)))\n",
    "kaggle_df['kitchen_qual'] = kaggle_df['kitchen_qual'].apply(lambda x:kitchen_qual_dict[x])\n",
    "\n",
    "exter_qual_dict = dict(zip(['Po', 'Fa', 'TA','Gd', 'Ex'], range(1, 6)))\n",
    "kaggle_df['exter_qual'] = kaggle_df['exter_qual'].apply(lambda x:exter_qual_dict[x])\n",
    "\n",
    "heating_qc_dict = dict(zip(['Po', 'Fa', 'TA','Gd', 'Ex'], range(1, 6)))\n",
    "kaggle_df['heating_qc'] = kaggle_df['heating_qc'].apply(lambda x:heating_qc_dict[x])\n",
    "\n",
    "fireplace_qu_dict = dict(zip(['none', 'Po', 'Fa', 'TA','Gd', 'Ex'], range(6)))\n",
    "kaggle_df['fireplace_qu'] = kaggle_df['fireplace_qu'].apply(lambda x:fireplace_qu_dict[x])\n",
    "\n",
    "garage_finish_dict = dict(zip(['none', 'Unf', 'RFn', 'Fin'], range(4)))\n",
    "kaggle_df['garage_finish'] = kaggle_df['garage_finish'].apply(lambda x:garage_finish_dict[x])"
   ]
  },
  {
   "cell_type": "markdown",
   "metadata": {},
   "source": [
    "Creating Categorical Dummy Variables"
   ]
  },
  {
   "cell_type": "code",
   "execution_count": 144,
   "metadata": {},
   "outputs": [],
   "source": [
    "kaggle_df = pd.get_dummies(kaggle_df, columns = ['foundation', 'bsmtfin_type_1', 'neighborhood', 'mas_vnr_type'] )\n",
    "kaggle_df.columns = [column_name.lower().replace(' ','_') for column_name in kaggle_df.columns]"
   ]
  },
  {
   "cell_type": "code",
   "execution_count": 145,
   "metadata": {},
   "outputs": [],
   "source": [
    "kaggle_df['overall_livingarea'] = kaggle_df['overall_qual']* kaggle_df['gr_liv_area']"
   ]
  },
  {
   "cell_type": "markdown",
   "metadata": {},
   "source": [
    "Evaluating My Model here:"
   ]
  },
  {
   "cell_type": "code",
   "execution_count": 146,
   "metadata": {},
   "outputs": [],
   "source": [
    "y =  np.log(train_df['saleprice'])\n",
    "X = train_df[['overall_qual', 'overall_cond', 'ms_subclass','enclosed_porch', 'gr_liv_area', 'garage_area', \n",
    "         '1st_flr_sf', 'total_bsmt_sf', 'year_built', 'year_remod/add','full_bath'\n",
    "        ,'mas_vnr_area', 'fireplaces', 'bsmtfin_sf_1', 'bsmtfin_sf_2','lot_frontage', \n",
    "        'lot_area', 'screen_porch', 'open_porch_sf', 'mo_sold','bsmt_qual', 'kitchen_qual',\n",
    "              'exter_qual', 'heating_qc', 'fireplace_qu', 'garage_finish', 'foundation_pconc', 'bsmtfin_type_1_glq', \n",
    "              'neighborhood_nridght','neighborhood_stonebr', 'mas_vnr_type_none', 'overall_livingarea']]"
   ]
  },
  {
   "cell_type": "code",
   "execution_count": 147,
   "metadata": {},
   "outputs": [
    {
     "data": {
      "text/plain": [
       "LinearRegression(copy_X=True, fit_intercept=True, n_jobs=None, normalize=False)"
      ]
     },
     "execution_count": 147,
     "metadata": {},
     "output_type": "execute_result"
    }
   ],
   "source": [
    "model = LinearRegression()\n",
    "model.fit(X,y)"
   ]
  },
  {
   "cell_type": "code",
   "execution_count": 148,
   "metadata": {},
   "outputs": [],
   "source": [
    "y_hat = model.predict(X)"
   ]
  },
  {
   "cell_type": "code",
   "execution_count": 149,
   "metadata": {},
   "outputs": [
    {
     "data": {
      "text/plain": [
       "21539.744899171856"
      ]
     },
     "execution_count": 149,
     "metadata": {},
     "output_type": "execute_result"
    }
   ],
   "source": [
    "np.sqrt(metrics.mean_squared_error(np.exp(y), np.exp(y_hat)))"
   ]
  },
  {
   "cell_type": "code",
   "execution_count": 150,
   "metadata": {},
   "outputs": [
    {
     "data": {
      "text/plain": [
       "0.8999358610428766"
      ]
     },
     "execution_count": 150,
     "metadata": {},
     "output_type": "execute_result"
    }
   ],
   "source": [
    "X_train, X_test, y_train, y_test = train_test_split(X, y, random_state = 31)\n",
    "cross_val_score(model, X_train, y_train, cv = 5).mean()"
   ]
  },
  {
   "cell_type": "code",
   "execution_count": 151,
   "metadata": {},
   "outputs": [
    {
     "name": "stdout",
     "output_type": "stream",
     "text": [
      "0.9053367485477202\n",
      "0.896860893237959\n"
     ]
    }
   ],
   "source": [
    "print(model.score(X_train, y_train))\n",
    "print(model.score(X_test, y_test))"
   ]
  },
  {
   "cell_type": "markdown",
   "metadata": {},
   "source": [
    "Applying Model Features to Test Data"
   ]
  },
  {
   "cell_type": "code",
   "execution_count": 152,
   "metadata": {},
   "outputs": [],
   "source": [
    "X_kaggle = kaggle_df[['overall_qual', 'overall_cond', 'ms_subclass','enclosed_porch', 'gr_liv_area', 'garage_area', \n",
    "         '1st_flr_sf', 'total_bsmt_sf', 'year_built', 'year_remod/add','full_bath'\n",
    "        ,'mas_vnr_area', 'fireplaces', 'bsmtfin_sf_1', 'bsmtfin_sf_2','lot_frontage', \n",
    "        'lot_area', 'screen_porch', 'open_porch_sf', 'mo_sold','bsmt_qual', 'kitchen_qual',\n",
    "              'exter_qual', 'heating_qc', 'fireplace_qu', 'garage_finish', 'foundation_pconc', 'bsmtfin_type_1_glq', 'neighborhood_nridght','neighborhood_stonebr', 'mas_vnr_type_none', 'overall_livingarea']]"
   ]
  },
  {
   "cell_type": "code",
   "execution_count": 153,
   "metadata": {},
   "outputs": [],
   "source": [
    "kaggle_df['pred_price'] = np.exp(model.predict(X_kaggle))\n",
    "\n",
    "kaggle_preds = kaggle_df['pred_price']"
   ]
  },
  {
   "cell_type": "code",
   "execution_count": null,
   "metadata": {},
   "outputs": [],
   "source": []
  },
  {
   "cell_type": "code",
   "execution_count": 154,
   "metadata": {},
   "outputs": [],
   "source": [
    "submission = pd.DataFrame(kaggle_preds, index = kaggle_df.index)\n",
    "submission.columns = ['SalePrice']"
   ]
  },
  {
   "cell_type": "code",
   "execution_count": 155,
   "metadata": {},
   "outputs": [
    {
     "data": {
      "text/html": [
       "<div>\n",
       "<style scoped>\n",
       "    .dataframe tbody tr th:only-of-type {\n",
       "        vertical-align: middle;\n",
       "    }\n",
       "\n",
       "    .dataframe tbody tr th {\n",
       "        vertical-align: top;\n",
       "    }\n",
       "\n",
       "    .dataframe thead th {\n",
       "        text-align: right;\n",
       "    }\n",
       "</style>\n",
       "<table border=\"1\" class=\"dataframe\">\n",
       "  <thead>\n",
       "    <tr style=\"text-align: right;\">\n",
       "      <th></th>\n",
       "      <th>SalePrice</th>\n",
       "    </tr>\n",
       "    <tr>\n",
       "      <th>Id</th>\n",
       "      <th></th>\n",
       "    </tr>\n",
       "  </thead>\n",
       "  <tbody>\n",
       "    <tr>\n",
       "      <th>2658</th>\n",
       "      <td>139860.945735</td>\n",
       "    </tr>\n",
       "    <tr>\n",
       "      <th>2718</th>\n",
       "      <td>161886.800279</td>\n",
       "    </tr>\n",
       "    <tr>\n",
       "      <th>2414</th>\n",
       "      <td>205302.162982</td>\n",
       "    </tr>\n",
       "    <tr>\n",
       "      <th>1989</th>\n",
       "      <td>106484.014806</td>\n",
       "    </tr>\n",
       "    <tr>\n",
       "      <th>625</th>\n",
       "      <td>173020.204220</td>\n",
       "    </tr>\n",
       "    <tr>\n",
       "      <th>...</th>\n",
       "      <td>...</td>\n",
       "    </tr>\n",
       "    <tr>\n",
       "      <th>1662</th>\n",
       "      <td>189030.286911</td>\n",
       "    </tr>\n",
       "    <tr>\n",
       "      <th>1234</th>\n",
       "      <td>219953.668105</td>\n",
       "    </tr>\n",
       "    <tr>\n",
       "      <th>1373</th>\n",
       "      <td>131048.857395</td>\n",
       "    </tr>\n",
       "    <tr>\n",
       "      <th>1672</th>\n",
       "      <td>113341.845450</td>\n",
       "    </tr>\n",
       "    <tr>\n",
       "      <th>1939</th>\n",
       "      <td>118478.183879</td>\n",
       "    </tr>\n",
       "  </tbody>\n",
       "</table>\n",
       "<p>878 rows × 1 columns</p>\n",
       "</div>"
      ],
      "text/plain": [
       "          SalePrice\n",
       "Id                 \n",
       "2658  139860.945735\n",
       "2718  161886.800279\n",
       "2414  205302.162982\n",
       "1989  106484.014806\n",
       "625   173020.204220\n",
       "...             ...\n",
       "1662  189030.286911\n",
       "1234  219953.668105\n",
       "1373  131048.857395\n",
       "1672  113341.845450\n",
       "1939  118478.183879\n",
       "\n",
       "[878 rows x 1 columns]"
      ]
     },
     "execution_count": 155,
     "metadata": {},
     "output_type": "execute_result"
    }
   ],
   "source": [
    "submission"
   ]
  },
  {
   "cell_type": "markdown",
   "metadata": {},
   "source": [
    "Exporting Submission File"
   ]
  },
  {
   "cell_type": "code",
   "execution_count": 156,
   "metadata": {},
   "outputs": [],
   "source": [
    "submission.to_csv('./datasets/submission9.csv')"
   ]
  },
  {
   "cell_type": "code",
   "execution_count": null,
   "metadata": {},
   "outputs": [],
   "source": []
  }
 ],
 "metadata": {
  "kernelspec": {
   "display_name": "Python 3",
   "language": "python",
   "name": "python3"
  },
  "language_info": {
   "codemirror_mode": {
    "name": "ipython",
    "version": 3
   },
   "file_extension": ".py",
   "mimetype": "text/x-python",
   "name": "python",
   "nbconvert_exporter": "python",
   "pygments_lexer": "ipython3",
   "version": "3.7.4"
  }
 },
 "nbformat": 4,
 "nbformat_minor": 4
}
